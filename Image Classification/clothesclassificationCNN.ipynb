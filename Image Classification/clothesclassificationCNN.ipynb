{
 "cells": [
  {
   "cell_type": "code",
   "execution_count": 1,
   "metadata": {
    "colab": {
     "base_uri": "https://localhost:8080/"
    },
    "id": "_SVH_vD3gZX1",
    "outputId": "fdeb27f3-cb22-4240-87c1-23c2b63e133d"
   },
   "outputs": [
    {
     "name": "stdout",
     "output_type": "stream",
     "text": [
      "Collecting split-folders\n",
      "  Downloading https://files.pythonhosted.org/packages/b8/5f/3c2b2f7ea5e047c8cdc3bb00ae582c5438fcdbbedcc23b3cc1c2c7aae642/split_folders-0.4.3-py3-none-any.whl\n",
      "Installing collected packages: split-folders\n",
      "Successfully installed split-folders-0.4.3\n"
     ]
    }
   ],
   "source": [
    "!pip install split-folders"
   ]
  },
  {
   "cell_type": "code",
   "execution_count": 2,
   "metadata": {
    "colab": {
     "base_uri": "https://localhost:8080/"
    },
    "id": "TSAPi0vAghEY",
    "outputId": "272e1d9b-e333-4691-d127-72ad8508aa90"
   },
   "outputs": [
    {
     "name": "stdout",
     "output_type": "stream",
     "text": [
      "Archive:  /content/drive/MyDrive/Datasets/Amazon_clothes/Data.zip\n",
      "   creating: Data/\n",
      "   creating: Data/saree/\n",
      "  inflating: Data/saree/23.jpeg      \n",
      "  inflating: Data/saree/0.jpeg       \n",
      "  inflating: Data/saree/1.jpeg       \n",
      "  inflating: Data/saree/2.jpeg       \n",
      "  inflating: Data/saree/3.jpeg       \n",
      "  inflating: Data/saree/4.jpeg       \n",
      "  inflating: Data/saree/5.jpeg       \n",
      "  inflating: Data/saree/6.jpeg       \n",
      "  inflating: Data/saree/7.jpeg       \n",
      "  inflating: Data/saree/8.jpeg       \n",
      "  inflating: Data/saree/9.jpeg       \n",
      "  inflating: Data/saree/10.jpeg      \n",
      "  inflating: Data/saree/11.jpeg      \n",
      "  inflating: Data/saree/12.jpeg      \n",
      "  inflating: Data/saree/13.jpeg      \n",
      "  inflating: Data/saree/14.jpeg      \n",
      "  inflating: Data/saree/15.jpeg      \n",
      "  inflating: Data/saree/16.jpeg      \n",
      "  inflating: Data/saree/17.jpeg      \n",
      "  inflating: Data/saree/18.jpeg      \n",
      "  inflating: Data/saree/19.jpeg      \n",
      "  inflating: Data/saree/20.jpeg      \n",
      "  inflating: Data/saree/21.jpeg      \n",
      "  inflating: Data/saree/22.jpeg      \n",
      "  inflating: Data/saree/24.jpeg      \n",
      "  inflating: Data/saree/25.jpeg      \n",
      "  inflating: Data/saree/26.jpeg      \n",
      "  inflating: Data/saree/27.jpeg      \n",
      "  inflating: Data/saree/28.jpeg      \n",
      "  inflating: Data/saree/29.jpeg      \n",
      "  inflating: Data/saree/30.jpeg      \n",
      "  inflating: Data/saree/31.jpeg      \n",
      "  inflating: Data/saree/32.jpeg      \n",
      "  inflating: Data/saree/33.jpeg      \n",
      "  inflating: Data/saree/34.jpeg      \n",
      "  inflating: Data/saree/35.jpeg      \n",
      "  inflating: Data/saree/36.jpeg      \n",
      "  inflating: Data/saree/37.jpeg      \n",
      "  inflating: Data/saree/38.jpeg      \n",
      "  inflating: Data/saree/39.jpeg      \n",
      "  inflating: Data/saree/40.jpeg      \n",
      "  inflating: Data/saree/41.jpeg      \n",
      "  inflating: Data/saree/42.jpeg      \n",
      "  inflating: Data/saree/43.jpeg      \n",
      "  inflating: Data/saree/44.jpeg      \n",
      "  inflating: Data/saree/45.jpeg      \n",
      "  inflating: Data/saree/46.jpeg      \n",
      "  inflating: Data/saree/47.jpeg      \n",
      "  inflating: Data/saree/48.jpeg      \n",
      "  inflating: Data/saree/49.jpeg      \n",
      "  inflating: Data/saree/50.jpeg      \n",
      "  inflating: Data/saree/51.jpeg      \n",
      "  inflating: Data/saree/52.jpeg      \n",
      "  inflating: Data/saree/53.jpeg      \n",
      "  inflating: Data/saree/54.jpeg      \n",
      "  inflating: Data/saree/55.jpeg      \n",
      "  inflating: Data/saree/56.jpeg      \n",
      "  inflating: Data/saree/57.jpeg      \n",
      "  inflating: Data/saree/58.jpeg      \n",
      "  inflating: Data/saree/59.jpeg      \n",
      "  inflating: Data/saree/60.jpeg      \n",
      "  inflating: Data/saree/61.jpeg      \n",
      "  inflating: Data/saree/62.jpeg      \n",
      "  inflating: Data/saree/63.jpeg      \n",
      "  inflating: Data/saree/64.jpeg      \n",
      "  inflating: Data/saree/65.jpeg      \n",
      "  inflating: Data/saree/66.jpeg      \n",
      "  inflating: Data/saree/67.jpeg      \n",
      "  inflating: Data/saree/68.jpeg      \n",
      "  inflating: Data/saree/69.jpeg      \n",
      "  inflating: Data/saree/70.jpeg      \n",
      "  inflating: Data/saree/71.jpeg      \n",
      "  inflating: Data/saree/72.jpeg      \n",
      "  inflating: Data/saree/73.jpeg      \n",
      "  inflating: Data/saree/74.jpeg      \n",
      "  inflating: Data/saree/75.jpeg      \n",
      "  inflating: Data/saree/76.jpeg      \n",
      "  inflating: Data/saree/77.jpeg      \n",
      "  inflating: Data/saree/78.jpeg      \n",
      "  inflating: Data/saree/79.jpeg      \n",
      "  inflating: Data/saree/80.jpeg      \n",
      "  inflating: Data/saree/81.jpeg      \n",
      "  inflating: Data/saree/82.jpeg      \n",
      "  inflating: Data/saree/83.jpeg      \n",
      "  inflating: Data/saree/84.jpeg      \n",
      "  inflating: Data/saree/85.jpeg      \n",
      "  inflating: Data/saree/86.jpeg      \n",
      "  inflating: Data/saree/87.jpeg      \n",
      "  inflating: Data/saree/88.jpeg      \n",
      "  inflating: Data/saree/89.jpeg      \n",
      "  inflating: Data/saree/90.jpeg      \n",
      "  inflating: Data/saree/91.jpeg      \n",
      "  inflating: Data/saree/92.jpeg      \n",
      "  inflating: Data/saree/93.jpeg      \n",
      "  inflating: Data/saree/94.jpeg      \n",
      "  inflating: Data/saree/95.jpeg      \n",
      "  inflating: Data/saree/96.jpeg      \n",
      "  inflating: Data/saree/97.jpeg      \n",
      "  inflating: Data/saree/98.jpeg      \n",
      "  inflating: Data/saree/99.jpeg      \n",
      "  inflating: Data/saree/100.jpeg     \n",
      "  inflating: Data/saree/101.jpeg     \n",
      "  inflating: Data/saree/102.jpeg     \n",
      "  inflating: Data/saree/103.jpeg     \n",
      "  inflating: Data/saree/104.jpeg     \n",
      "  inflating: Data/saree/105.jpeg     \n",
      "  inflating: Data/saree/106.jpeg     \n",
      "  inflating: Data/saree/107.jpeg     \n",
      "  inflating: Data/saree/108.jpeg     \n",
      "  inflating: Data/saree/109.jpeg     \n",
      "  inflating: Data/saree/110.jpeg     \n",
      "  inflating: Data/saree/111.jpeg     \n",
      "  inflating: Data/saree/112.jpeg     \n",
      "  inflating: Data/saree/113.jpeg     \n",
      "  inflating: Data/saree/114.jpeg     \n",
      "  inflating: Data/saree/115.jpeg     \n",
      "  inflating: Data/saree/116.jpeg     \n",
      "  inflating: Data/saree/117.jpeg     \n",
      "  inflating: Data/saree/118.jpeg     \n",
      "  inflating: Data/saree/119.jpeg     \n",
      "  inflating: Data/saree/120.jpeg     \n",
      "  inflating: Data/saree/121.jpeg     \n",
      "  inflating: Data/saree/122.jpeg     \n",
      "  inflating: Data/saree/123.jpeg     \n",
      "  inflating: Data/saree/124.jpeg     \n",
      "  inflating: Data/saree/125.jpeg     \n",
      "  inflating: Data/saree/126.jpeg     \n",
      "  inflating: Data/saree/127.jpeg     \n",
      "  inflating: Data/saree/128.jpeg     \n",
      "  inflating: Data/saree/129.jpeg     \n",
      "  inflating: Data/saree/130.jpeg     \n",
      "  inflating: Data/saree/131.jpeg     \n",
      "  inflating: Data/saree/132.jpeg     \n",
      "  inflating: Data/saree/133.jpeg     \n",
      "  inflating: Data/saree/134.jpeg     \n",
      "  inflating: Data/saree/135.jpeg     \n",
      "  inflating: Data/saree/136.jpeg     \n",
      "  inflating: Data/saree/137.jpeg     \n",
      "  inflating: Data/saree/138.jpeg     \n",
      "  inflating: Data/saree/139.jpeg     \n",
      "  inflating: Data/saree/140.jpeg     \n",
      "  inflating: Data/saree/141.jpeg     \n",
      "  inflating: Data/saree/142.jpeg     \n",
      "  inflating: Data/saree/143.jpeg     \n",
      "  inflating: Data/saree/144.jpeg     \n",
      "  inflating: Data/saree/145.jpeg     \n",
      "  inflating: Data/saree/146.jpeg     \n",
      "  inflating: Data/saree/147.jpeg     \n",
      "  inflating: Data/saree/148.jpeg     \n",
      "  inflating: Data/saree/149.jpeg     \n",
      "  inflating: Data/saree/150.jpeg     \n",
      "  inflating: Data/saree/151.jpeg     \n",
      "  inflating: Data/saree/152.jpeg     \n",
      "  inflating: Data/saree/153.jpeg     \n",
      "  inflating: Data/saree/154.jpeg     \n",
      "  inflating: Data/saree/155.jpeg     \n",
      "  inflating: Data/saree/156.jpeg     \n",
      "  inflating: Data/saree/157.jpeg     \n",
      "  inflating: Data/saree/158.jpeg     \n",
      "  inflating: Data/saree/159.jpeg     \n",
      "  inflating: Data/saree/160.jpeg     \n",
      "  inflating: Data/saree/161.jpeg     \n",
      "  inflating: Data/saree/162.jpeg     \n",
      "  inflating: Data/saree/163.jpeg     \n",
      "  inflating: Data/saree/164.jpeg     \n",
      "  inflating: Data/saree/165.jpeg     \n",
      "  inflating: Data/saree/166.jpeg     \n",
      "  inflating: Data/saree/167.jpeg     \n",
      "  inflating: Data/saree/168.jpeg     \n",
      "  inflating: Data/saree/169.jpeg     \n",
      "  inflating: Data/saree/170.jpeg     \n",
      "  inflating: Data/saree/171.jpeg     \n",
      "  inflating: Data/saree/172.jpeg     \n",
      "  inflating: Data/saree/173.jpeg     \n",
      "  inflating: Data/saree/174.jpeg     \n",
      "  inflating: Data/saree/175.jpeg     \n",
      "  inflating: Data/saree/176.jpeg     \n",
      "  inflating: Data/saree/177.jpeg     \n",
      "  inflating: Data/saree/178.jpeg     \n",
      "  inflating: Data/saree/179.jpeg     \n",
      "  inflating: Data/saree/180.jpeg     \n",
      "  inflating: Data/saree/181.jpeg     \n",
      "  inflating: Data/saree/182.jpeg     \n",
      "  inflating: Data/saree/183.jpeg     \n",
      "  inflating: Data/saree/184.jpeg     \n",
      "  inflating: Data/saree/185.jpeg     \n",
      "  inflating: Data/saree/186.jpeg     \n",
      "  inflating: Data/saree/187.jpeg     \n",
      "  inflating: Data/saree/188.jpeg     \n",
      "  inflating: Data/saree/189.jpeg     \n",
      "  inflating: Data/saree/190.jpeg     \n",
      "  inflating: Data/saree/191.jpeg     \n",
      "  inflating: Data/saree/192.jpeg     \n",
      "  inflating: Data/saree/193.jpeg     \n",
      "  inflating: Data/saree/194.jpeg     \n",
      "  inflating: Data/saree/195.jpeg     \n",
      "  inflating: Data/saree/196.jpeg     \n",
      "  inflating: Data/saree/197.jpeg     \n",
      "  inflating: Data/saree/198.jpeg     \n",
      "  inflating: Data/saree/199.jpeg     \n",
      "  inflating: Data/saree/200.jpeg     \n",
      "  inflating: Data/saree/201.jpeg     \n",
      "  inflating: Data/saree/202.jpeg     \n",
      "  inflating: Data/saree/203.jpeg     \n",
      "  inflating: Data/saree/204.jpeg     \n",
      "  inflating: Data/saree/205.jpeg     \n",
      "  inflating: Data/saree/206.jpeg     \n",
      "  inflating: Data/saree/207.jpeg     \n",
      "  inflating: Data/saree/208.jpeg     \n",
      "  inflating: Data/saree/209.jpeg     \n",
      "  inflating: Data/saree/210.jpeg     \n",
      "  inflating: Data/saree/211.jpeg     \n",
      "  inflating: Data/saree/212.jpeg     \n",
      "  inflating: Data/saree/213.jpeg     \n",
      "  inflating: Data/saree/214.jpeg     \n",
      "  inflating: Data/saree/215.jpeg     \n",
      "  inflating: Data/saree/216.jpeg     \n",
      "  inflating: Data/saree/217.jpeg     \n",
      "  inflating: Data/saree/218.jpeg     \n",
      "  inflating: Data/saree/219.jpeg     \n",
      "  inflating: Data/saree/220.jpeg     \n",
      "  inflating: Data/saree/221.jpeg     \n",
      "  inflating: Data/saree/222.jpeg     \n",
      "  inflating: Data/saree/223.jpeg     \n",
      "  inflating: Data/saree/224.jpeg     \n",
      "  inflating: Data/saree/225.jpeg     \n",
      "  inflating: Data/saree/226.jpeg     \n",
      "  inflating: Data/saree/227.jpeg     \n",
      "  inflating: Data/saree/228.jpeg     \n",
      "  inflating: Data/saree/229.jpeg     \n",
      "  inflating: Data/saree/230.jpeg     \n",
      "  inflating: Data/saree/231.jpeg     \n",
      "  inflating: Data/saree/232.jpeg     \n",
      "  inflating: Data/saree/233.jpeg     \n",
      "  inflating: Data/saree/234.jpeg     \n",
      "  inflating: Data/saree/235.jpeg     \n",
      "  inflating: Data/saree/236.jpeg     \n",
      "  inflating: Data/saree/237.jpeg     \n",
      "  inflating: Data/saree/238.jpeg     \n",
      "  inflating: Data/saree/239.jpeg     \n",
      "  inflating: Data/saree/240.jpeg     \n",
      "  inflating: Data/saree/241.jpeg     \n",
      "  inflating: Data/saree/242.jpeg     \n",
      "  inflating: Data/saree/243.jpeg     \n",
      "  inflating: Data/saree/244.jpeg     \n",
      "  inflating: Data/saree/245.jpeg     \n",
      "  inflating: Data/saree/246.jpeg     \n",
      "  inflating: Data/saree/247.jpeg     \n",
      "  inflating: Data/saree/Image_1.jpg  \n",
      "  inflating: Data/saree/Image_2.jpg  \n",
      "  inflating: Data/saree/Image_3.jpg  \n",
      "  inflating: Data/saree/Image_4.jpg  \n",
      "  inflating: Data/saree/Image_5.jpg  \n",
      "  inflating: Data/saree/Image_6.jpg  \n",
      "  inflating: Data/saree/Image_7.jpg  \n",
      "  inflating: Data/saree/Image_8.jpg  \n",
      "  inflating: Data/saree/Image_9.jpg  \n",
      "  inflating: Data/saree/Image_10.jpg  \n",
      "  inflating: Data/saree/Image_11.jpg  \n",
      "  inflating: Data/saree/Image_12.jpg  \n",
      "  inflating: Data/saree/Image_13.jpg  \n",
      "  inflating: Data/saree/Image_14.jpg  \n",
      "  inflating: Data/saree/Image_16.jpg  \n",
      "  inflating: Data/saree/Image_17.jpg  \n",
      "  inflating: Data/saree/Image_19.jpg  \n",
      "  inflating: Data/saree/Image_21.jpg  \n",
      "  inflating: Data/saree/Image_22.jpg  \n",
      "  inflating: Data/saree/Image_24.jpg  \n",
      "  inflating: Data/saree/Image_25.jpg  \n",
      "  inflating: Data/saree/Image_26.jpg  \n",
      "  inflating: Data/saree/Image_27.jpg  \n",
      "  inflating: Data/saree/Image_28.jpg  \n",
      "  inflating: Data/saree/Image_29.jpg  \n",
      "  inflating: Data/saree/Image_30.jpg  \n",
      "  inflating: Data/saree/Image_31.jpg  \n",
      "  inflating: Data/saree/Image_32.jpg  \n",
      "  inflating: Data/saree/Image_33.jpg  \n",
      "  inflating: Data/saree/Image_34.jpg  \n",
      "  inflating: Data/saree/Image_36.jpg  \n",
      "  inflating: Data/saree/Image_37.jpg  \n",
      "  inflating: Data/saree/Image_38.jpg  \n",
      "  inflating: Data/saree/Image_39.png  \n",
      "  inflating: Data/saree/Image_40.jpg  \n",
      "  inflating: Data/saree/Image_41.jpg  \n",
      "  inflating: Data/saree/Image_42.jpg  \n",
      "  inflating: Data/saree/Image_43.jpg  \n",
      "  inflating: Data/saree/Image_44.jpg  \n",
      "  inflating: Data/saree/Image_45.jpg  \n",
      "  inflating: Data/saree/Image_46.jpg  \n",
      "  inflating: Data/saree/Image_47.jpg  \n",
      "  inflating: Data/saree/Image_48.jpg  \n",
      "  inflating: Data/saree/Image_49.jpg  \n",
      "  inflating: Data/saree/Image_50.jpg  \n",
      "  inflating: Data/saree/Image_51.jpg  \n",
      "  inflating: Data/saree/Image_53.jpg  \n",
      "  inflating: Data/saree/Image_54.jpg  \n",
      "  inflating: Data/saree/Image_56.jpg  \n",
      "  inflating: Data/saree/Image_57.jpg  \n",
      "  inflating: Data/saree/Image_58.jpg  \n",
      "  inflating: Data/saree/Image_59.jpg  \n",
      "  inflating: Data/saree/Image_60.jpg  \n",
      "  inflating: Data/saree/Image_61.jpg  \n",
      "  inflating: Data/saree/Image_62.jpg  \n",
      "  inflating: Data/saree/Image_63.jpg  \n",
      "  inflating: Data/saree/Image_64.jpg  \n",
      "  inflating: Data/saree/Image_65.jpg  \n",
      "  inflating: Data/saree/Image_66.jpg  \n",
      "  inflating: Data/saree/Image_67.jpeg  \n",
      "  inflating: Data/saree/Image_68.png  \n",
      "  inflating: Data/saree/Image_69.jpg  \n",
      "  inflating: Data/saree/Image_70.jpg  \n",
      "  inflating: Data/saree/Image_71.jpg  \n",
      "  inflating: Data/saree/Image_73.jpg  \n",
      "  inflating: Data/saree/Image_74.jpg  \n",
      "  inflating: Data/saree/Image_75.jpg  \n",
      "  inflating: Data/saree/Image_77.png  \n",
      "  inflating: Data/saree/Image_78.jpg  \n",
      "  inflating: Data/saree/Image_81.jpg  \n",
      "  inflating: Data/saree/Image_82.jpg  \n",
      "  inflating: Data/saree/Image_83.jpg  \n",
      "  inflating: Data/saree/Image_84.jpg  \n",
      "  inflating: Data/saree/Image_86.jpg  \n",
      "  inflating: Data/saree/Image_87.jpg  \n",
      "  inflating: Data/saree/Image_88.jpg  \n",
      "  inflating: Data/saree/Image_89.jpg  \n",
      "  inflating: Data/saree/Image_90.jpg  \n",
      "  inflating: Data/saree/Image_91.jpg  \n",
      "  inflating: Data/saree/Image_94.jpg  \n",
      "  inflating: Data/saree/Image_95.jpg  \n",
      "  inflating: Data/saree/Image_96.jpg  \n",
      "  inflating: Data/saree/Image_97.jpg  \n",
      "  inflating: Data/saree/Image_98.jpg  \n",
      "  inflating: Data/saree/Image_99.jpg  \n",
      "  inflating: Data/saree/Image_100.jpg  \n",
      "   creating: Data/men trouser/\n",
      "  inflating: Data/men trouser/103.jpeg  \n",
      "  inflating: Data/men trouser/104.jpeg  \n",
      "  inflating: Data/men trouser/105.jpeg  \n",
      "  inflating: Data/men trouser/106.jpeg  \n",
      "  inflating: Data/men trouser/107.jpeg  \n",
      "  inflating: Data/men trouser/108.jpeg  \n",
      "  inflating: Data/men trouser/109.jpeg  \n",
      "  inflating: Data/men trouser/0.jpeg  \n",
      "  inflating: Data/men trouser/1.jpeg  \n",
      "  inflating: Data/men trouser/110.jpeg  \n",
      "  inflating: Data/men trouser/111.jpeg  \n",
      "  inflating: Data/men trouser/112.jpeg  \n",
      "  inflating: Data/men trouser/113.jpeg  \n",
      "  inflating: Data/men trouser/114.jpeg  \n",
      "  inflating: Data/men trouser/115.jpeg  \n",
      "  inflating: Data/men trouser/116.jpeg  \n",
      "  inflating: Data/men trouser/117.jpeg  \n",
      "  inflating: Data/men trouser/118.jpeg  \n",
      "  inflating: Data/men trouser/119.jpeg  \n",
      "  inflating: Data/men trouser/120.jpeg  \n",
      "  inflating: Data/men trouser/121.jpeg  \n",
      "  inflating: Data/men trouser/122.jpeg  \n",
      "  inflating: Data/men trouser/123.jpeg  \n",
      "  inflating: Data/men trouser/124.jpeg  \n",
      "  inflating: Data/men trouser/125.jpeg  \n",
      "  inflating: Data/men trouser/126.jpeg  \n",
      "  inflating: Data/men trouser/127.jpeg  \n",
      "  inflating: Data/men trouser/128.jpeg  \n",
      "  inflating: Data/men trouser/129.jpeg  \n",
      "  inflating: Data/men trouser/130.jpeg  \n",
      "  inflating: Data/men trouser/131.jpeg  \n",
      "  inflating: Data/men trouser/132.jpeg  \n",
      "  inflating: Data/men trouser/133.jpeg  \n",
      "  inflating: Data/men trouser/134.jpeg  \n",
      "  inflating: Data/men trouser/135.jpeg  \n",
      "  inflating: Data/men trouser/136.jpeg  \n",
      "  inflating: Data/men trouser/137.jpeg  \n",
      "  inflating: Data/men trouser/138.jpeg  \n",
      "  inflating: Data/men trouser/139.jpeg  \n",
      "  inflating: Data/men trouser/140.jpeg  \n",
      "  inflating: Data/men trouser/141.jpeg  \n",
      "  inflating: Data/men trouser/142.jpeg  \n",
      "  inflating: Data/men trouser/143.jpeg  \n",
      "  inflating: Data/men trouser/144.jpeg  \n",
      "  inflating: Data/men trouser/145.jpeg  \n",
      "  inflating: Data/men trouser/146.jpeg  \n",
      "  inflating: Data/men trouser/147.jpeg  \n",
      "  inflating: Data/men trouser/2.jpeg  \n",
      "  inflating: Data/men trouser/3.jpeg  \n",
      "  inflating: Data/men trouser/4.jpeg  \n",
      "  inflating: Data/men trouser/5.jpeg  \n",
      "  inflating: Data/men trouser/6.jpeg  \n",
      "  inflating: Data/men trouser/148.jpeg  \n",
      "  inflating: Data/men trouser/149.jpeg  \n",
      "  inflating: Data/men trouser/150.jpeg  \n",
      "  inflating: Data/men trouser/7.jpeg  \n",
      "  inflating: Data/men trouser/8.jpeg  \n",
      "  inflating: Data/men trouser/9.jpeg  \n",
      "  inflating: Data/men trouser/10.jpeg  \n",
      "  inflating: Data/men trouser/11.jpeg  \n",
      "  inflating: Data/men trouser/12.jpeg  \n",
      "  inflating: Data/men trouser/13.jpeg  \n",
      "  inflating: Data/men trouser/14.jpeg  \n",
      "  inflating: Data/men trouser/15.jpeg  \n",
      "  inflating: Data/men trouser/16.jpeg  \n",
      "  inflating: Data/men trouser/17.jpeg  \n",
      "  inflating: Data/men trouser/18.jpeg  \n",
      "  inflating: Data/men trouser/19.jpeg  \n",
      "  inflating: Data/men trouser/20.jpeg  \n",
      "  inflating: Data/men trouser/21.jpeg  \n",
      "  inflating: Data/men trouser/22.jpeg  \n",
      "  inflating: Data/men trouser/23.jpeg  \n",
      "  inflating: Data/men trouser/24.jpeg  \n",
      "  inflating: Data/men trouser/25.jpeg  \n",
      "  inflating: Data/men trouser/26.jpeg  \n",
      "  inflating: Data/men trouser/27.jpeg  \n",
      "  inflating: Data/men trouser/28.jpeg  \n",
      "  inflating: Data/men trouser/29.jpeg  \n",
      "  inflating: Data/men trouser/30.jpeg  \n",
      "  inflating: Data/men trouser/31.jpeg  \n",
      "  inflating: Data/men trouser/32.jpeg  \n",
      "  inflating: Data/men trouser/33.jpeg  \n",
      "  inflating: Data/men trouser/34.jpeg  \n",
      "  inflating: Data/men trouser/35.jpeg  \n",
      "  inflating: Data/men trouser/36.jpeg  \n",
      "  inflating: Data/men trouser/37.jpeg  \n",
      "  inflating: Data/men trouser/38.jpeg  \n",
      "  inflating: Data/men trouser/39.jpeg  \n",
      "  inflating: Data/men trouser/40.jpeg  \n",
      "  inflating: Data/men trouser/41.jpeg  \n",
      "  inflating: Data/men trouser/42.jpeg  \n",
      "  inflating: Data/men trouser/43.jpeg  \n",
      "  inflating: Data/men trouser/44.jpeg  \n",
      "  inflating: Data/men trouser/45.jpeg  \n",
      "  inflating: Data/men trouser/46.jpeg  \n",
      "  inflating: Data/men trouser/47.jpeg  \n",
      "  inflating: Data/men trouser/48.jpeg  \n",
      "  inflating: Data/men trouser/49.jpeg  \n",
      "  inflating: Data/men trouser/50.jpeg  \n",
      "  inflating: Data/men trouser/51.jpeg  \n",
      "  inflating: Data/men trouser/52.jpeg  \n",
      "  inflating: Data/men trouser/53.jpeg  \n",
      "  inflating: Data/men trouser/54.jpeg  \n",
      "  inflating: Data/men trouser/55.jpeg  \n",
      "  inflating: Data/men trouser/56.jpeg  \n",
      "  inflating: Data/men trouser/57.jpeg  \n",
      "  inflating: Data/men trouser/58.jpeg  \n",
      "  inflating: Data/men trouser/59.jpeg  \n",
      "  inflating: Data/men trouser/60.jpeg  \n",
      "  inflating: Data/men trouser/61.jpeg  \n",
      "  inflating: Data/men trouser/62.jpeg  \n",
      "  inflating: Data/men trouser/63.jpeg  \n",
      "  inflating: Data/men trouser/64.jpeg  \n",
      "  inflating: Data/men trouser/65.jpeg  \n",
      "  inflating: Data/men trouser/66.jpeg  \n",
      "  inflating: Data/men trouser/67.jpeg  \n",
      "  inflating: Data/men trouser/68.jpeg  \n",
      "  inflating: Data/men trouser/69.jpeg  \n",
      "  inflating: Data/men trouser/70.jpeg  \n",
      "  inflating: Data/men trouser/71.jpeg  \n",
      "  inflating: Data/men trouser/72.jpeg  \n",
      "  inflating: Data/men trouser/73.jpeg  \n",
      "  inflating: Data/men trouser/74.jpeg  \n",
      "  inflating: Data/men trouser/75.jpeg  \n",
      "  inflating: Data/men trouser/76.jpeg  \n",
      "  inflating: Data/men trouser/77.jpeg  \n",
      "  inflating: Data/men trouser/78.jpeg  \n",
      "  inflating: Data/men trouser/79.jpeg  \n",
      "  inflating: Data/men trouser/80.jpeg  \n",
      "  inflating: Data/men trouser/81.jpeg  \n",
      "  inflating: Data/men trouser/82.jpeg  \n",
      "  inflating: Data/men trouser/83.jpeg  \n",
      "  inflating: Data/men trouser/84.jpeg  \n",
      "  inflating: Data/men trouser/85.jpeg  \n",
      "  inflating: Data/men trouser/86.jpeg  \n",
      "  inflating: Data/men trouser/87.jpeg  \n",
      "  inflating: Data/men trouser/88.jpeg  \n",
      "  inflating: Data/men trouser/89.jpeg  \n",
      "  inflating: Data/men trouser/90.jpeg  \n",
      "  inflating: Data/men trouser/91.jpeg  \n",
      "  inflating: Data/men trouser/92.jpeg  \n",
      "  inflating: Data/men trouser/93.jpeg  \n",
      "  inflating: Data/men trouser/94.jpeg  \n",
      "  inflating: Data/men trouser/95.jpeg  \n",
      "  inflating: Data/men trouser/96.jpeg  \n",
      "  inflating: Data/men trouser/97.jpeg  \n",
      "  inflating: Data/men trouser/98.jpeg  \n",
      "  inflating: Data/men trouser/99.jpeg  \n",
      "  inflating: Data/men trouser/100.jpeg  \n",
      "  inflating: Data/men trouser/101.jpeg  \n",
      "  inflating: Data/men trouser/102.jpeg  \n",
      "  inflating: Data/men trouser/151.jpeg  \n",
      "  inflating: Data/men trouser/152.jpeg  \n",
      "  inflating: Data/men trouser/153.jpeg  \n",
      "  inflating: Data/men trouser/154.jpeg  \n",
      "  inflating: Data/men trouser/155.jpeg  \n",
      "  inflating: Data/men trouser/156.jpeg  \n",
      "  inflating: Data/men trouser/157.jpeg  \n",
      "  inflating: Data/men trouser/158.jpeg  \n",
      "  inflating: Data/men trouser/159.jpeg  \n",
      "  inflating: Data/men trouser/160.jpeg  \n",
      "  inflating: Data/men trouser/161.jpeg  \n",
      "  inflating: Data/men trouser/162.jpeg  \n",
      "  inflating: Data/men trouser/163.jpeg  \n",
      "  inflating: Data/men trouser/164.jpeg  \n",
      "  inflating: Data/men trouser/165.jpeg  \n",
      "  inflating: Data/men trouser/166.jpeg  \n",
      "  inflating: Data/men trouser/167.jpeg  \n",
      "  inflating: Data/men trouser/168.jpeg  \n",
      "  inflating: Data/men trouser/169.jpeg  \n",
      "  inflating: Data/men trouser/170.jpeg  \n",
      "  inflating: Data/men trouser/171.jpeg  \n",
      "  inflating: Data/men trouser/172.jpeg  \n",
      "  inflating: Data/men trouser/173.jpeg  \n",
      "  inflating: Data/men trouser/174.jpeg  \n",
      "  inflating: Data/men trouser/175.jpeg  \n",
      "  inflating: Data/men trouser/176.jpeg  \n",
      "  inflating: Data/men trouser/177.jpeg  \n",
      "  inflating: Data/men trouser/178.jpeg  \n",
      "  inflating: Data/men trouser/179.jpeg  \n",
      "  inflating: Data/men trouser/180.jpeg  \n",
      "  inflating: Data/men trouser/181.jpeg  \n",
      "  inflating: Data/men trouser/182.jpeg  \n",
      "  inflating: Data/men trouser/183.jpeg  \n",
      "  inflating: Data/men trouser/184.jpeg  \n",
      "  inflating: Data/men trouser/185.jpeg  \n",
      "  inflating: Data/men trouser/186.jpeg  \n",
      "  inflating: Data/men trouser/187.jpeg  \n",
      "  inflating: Data/men trouser/188.jpeg  \n",
      "  inflating: Data/men trouser/189.jpeg  \n",
      "  inflating: Data/men trouser/190.jpeg  \n",
      "  inflating: Data/men trouser/191.jpeg  \n",
      "  inflating: Data/men trouser/192.jpeg  \n",
      "  inflating: Data/men trouser/193.jpeg  \n",
      "  inflating: Data/men trouser/194.jpeg  \n",
      "  inflating: Data/men trouser/195.jpeg  \n",
      "  inflating: Data/men trouser/196.jpeg  \n",
      "  inflating: Data/men trouser/197.jpeg  \n",
      "  inflating: Data/men trouser/198.jpeg  \n",
      "  inflating: Data/men trouser/199.jpeg  \n",
      "  inflating: Data/men trouser/200.jpeg  \n",
      "  inflating: Data/men trouser/201.jpeg  \n",
      "  inflating: Data/men trouser/202.jpeg  \n",
      "  inflating: Data/men trouser/203.jpeg  \n",
      "  inflating: Data/men trouser/204.jpeg  \n",
      "  inflating: Data/men trouser/205.jpeg  \n",
      "  inflating: Data/men trouser/206.jpeg  \n",
      "  inflating: Data/men trouser/207.jpeg  \n",
      "  inflating: Data/men trouser/208.jpeg  \n",
      "  inflating: Data/men trouser/209.jpeg  \n",
      "  inflating: Data/men trouser/Image_1.jpg  \n",
      "  inflating: Data/men trouser/Image_2.jpg  \n",
      "  inflating: Data/men trouser/Image_3.jpg  \n",
      "  inflating: Data/men trouser/Image_4.jpg  \n",
      "  inflating: Data/men trouser/Image_5.jpg  \n",
      "  inflating: Data/men trouser/Image_6.jpg  \n",
      "  inflating: Data/men trouser/Image_7.jpg  \n",
      "  inflating: Data/men trouser/Image_8.jpg  \n",
      "  inflating: Data/men trouser/Image_9.jpg  \n",
      "  inflating: Data/men trouser/Image_10.jpg  \n",
      "  inflating: Data/men trouser/Image_11.jpg  \n",
      "  inflating: Data/men trouser/Image_13.jpg  \n",
      "  inflating: Data/men trouser/Image_14.jpg  \n",
      "  inflating: Data/men trouser/Image_15.jpg  \n",
      "  inflating: Data/men trouser/Image_16.jpg  \n",
      "  inflating: Data/men trouser/Image_17.jpg  \n",
      "  inflating: Data/men trouser/Image_18.jpg  \n",
      "  inflating: Data/men trouser/Image_19.jpg  \n",
      "  inflating: Data/men trouser/Image_20.jpg  \n",
      "  inflating: Data/men trouser/Image_21.jpg  \n",
      "  inflating: Data/men trouser/Image_22.jpg  \n",
      "  inflating: Data/men trouser/Image_23.jpg  \n",
      "  inflating: Data/men trouser/Image_25.jpg  \n",
      "  inflating: Data/men trouser/Image_26.jpg  \n",
      "  inflating: Data/men trouser/Image_27.jpg  \n",
      "  inflating: Data/men trouser/Image_28.jpg  \n",
      "  inflating: Data/men trouser/Image_29.jpeg  \n",
      "  inflating: Data/men trouser/Image_31.jpg  \n",
      "  inflating: Data/men trouser/Image_32.jpg  \n",
      "  inflating: Data/men trouser/Image_35.jpg  \n",
      "  inflating: Data/men trouser/Image_36.jpg  \n",
      "  inflating: Data/men trouser/Image_43.jpeg  \n",
      "  inflating: Data/men trouser/Image_44.jpg  \n",
      "  inflating: Data/men trouser/Image_45.jpg  \n",
      "  inflating: Data/men trouser/Image_46.jpg  \n",
      "  inflating: Data/men trouser/Image_51.jpeg  \n",
      "  inflating: Data/men trouser/Image_52.jpg  \n",
      "  inflating: Data/men trouser/Image_53.jpg  \n",
      "  inflating: Data/men trouser/Image_55.jpg  \n",
      "  inflating: Data/men trouser/Image_57.jpg  \n",
      "  inflating: Data/men trouser/Image_58.jpg  \n",
      "  inflating: Data/men trouser/Image_59.jpg  \n",
      "  inflating: Data/men trouser/Image_60.jpg  \n",
      "  inflating: Data/men trouser/Image_61.jpg  \n",
      "  inflating: Data/men trouser/Image_63.jpg  \n",
      "  inflating: Data/men trouser/Image_65.jpg  \n",
      "  inflating: Data/men trouser/Image_66.jpg  \n",
      "  inflating: Data/men trouser/Image_67.jpg  \n",
      "  inflating: Data/men trouser/Image_68.jpg  \n",
      "  inflating: Data/men trouser/Image_70.jpg  \n",
      "  inflating: Data/men trouser/Image_71.jpg  \n",
      "  inflating: Data/men trouser/Image_72.jpg  \n",
      "  inflating: Data/men trouser/Image_73.jpg  \n",
      "  inflating: Data/men trouser/Image_74.jpg  \n",
      "  inflating: Data/men trouser/Image_75.jpg  \n",
      "  inflating: Data/men trouser/Image_76.jpg  \n",
      "  inflating: Data/men trouser/Image_77.jpg  \n",
      "  inflating: Data/men trouser/Image_78.jpg  \n",
      "  inflating: Data/men trouser/Image_79.jpg  \n",
      "  inflating: Data/men trouser/Image_80.jpg  \n",
      "  inflating: Data/men trouser/Image_82.jpg  \n",
      "  inflating: Data/men trouser/Image_83.jpg  \n",
      "  inflating: Data/men trouser/Image_84.jpg  \n",
      "  inflating: Data/men trouser/Image_86.jpg  \n",
      "  inflating: Data/men trouser/Image_87.jpg  \n",
      "  inflating: Data/men trouser/Image_88.jpg  \n",
      "  inflating: Data/men trouser/Image_89.jpg  \n",
      "  inflating: Data/men trouser/Image_90.jpg  \n",
      "  inflating: Data/men trouser/Image_91.jpg  \n",
      "  inflating: Data/men trouser/Image_92.jpg  \n",
      "  inflating: Data/men trouser/Image_93.jpg  \n",
      "  inflating: Data/men trouser/Image_94.jpg  \n",
      "  inflating: Data/men trouser/Image_95.jpg  \n",
      "  inflating: Data/men trouser/Image_96.jpg  \n",
      "  inflating: Data/men trouser/Image_99.jpeg  \n",
      "  inflating: Data/men trouser/Image_100.jpg  \n",
      "   creating: Data/men jeans/\n",
      "  inflating: Data/men jeans/26.jpeg  \n",
      "  inflating: Data/men jeans/27.jpeg  \n",
      "  inflating: Data/men jeans/28.jpeg  \n",
      "  inflating: Data/men jeans/29.jpeg  \n",
      "  inflating: Data/men jeans/30.jpeg  \n",
      "  inflating: Data/men jeans/31.jpeg  \n",
      "  inflating: Data/men jeans/32.jpeg  \n",
      "  inflating: Data/men jeans/33.jpeg  \n",
      "  inflating: Data/men jeans/34.jpeg  \n",
      "  inflating: Data/men jeans/35.jpeg  \n",
      "  inflating: Data/men jeans/36.jpeg  \n",
      "  inflating: Data/men jeans/37.jpeg  \n",
      "  inflating: Data/men jeans/38.jpeg  \n",
      "  inflating: Data/men jeans/39.jpeg  \n",
      "  inflating: Data/men jeans/40.jpeg  \n",
      "  inflating: Data/men jeans/41.jpeg  \n",
      "  inflating: Data/men jeans/42.jpeg  \n",
      "  inflating: Data/men jeans/43.jpeg  \n",
      "  inflating: Data/men jeans/44.jpeg  \n",
      "  inflating: Data/men jeans/45.jpeg  \n",
      "  inflating: Data/men jeans/46.jpeg  \n",
      "  inflating: Data/men jeans/47.jpeg  \n",
      "  inflating: Data/men jeans/48.jpeg  \n",
      "  inflating: Data/men jeans/49.jpeg  \n",
      "  inflating: Data/men jeans/50.jpeg  \n",
      "  inflating: Data/men jeans/51.jpeg  \n",
      "  inflating: Data/men jeans/52.jpeg  \n",
      "  inflating: Data/men jeans/53.jpeg  \n",
      "  inflating: Data/men jeans/54.jpeg  \n",
      "  inflating: Data/men jeans/55.jpeg  \n",
      "  inflating: Data/men jeans/56.jpeg  \n",
      "  inflating: Data/men jeans/57.jpeg  \n",
      "  inflating: Data/men jeans/58.jpeg  \n",
      "  inflating: Data/men jeans/59.jpeg  \n",
      "  inflating: Data/men jeans/60.jpeg  \n",
      "  inflating: Data/men jeans/61.jpeg  \n",
      "  inflating: Data/men jeans/62.jpeg  \n",
      "  inflating: Data/men jeans/63.jpeg  \n",
      "  inflating: Data/men jeans/64.jpeg  \n",
      "  inflating: Data/men jeans/65.jpeg  \n",
      "  inflating: Data/men jeans/66.jpeg  \n",
      "  inflating: Data/men jeans/67.jpeg  \n",
      "  inflating: Data/men jeans/68.jpeg  \n",
      "  inflating: Data/men jeans/69.jpeg  \n",
      "  inflating: Data/men jeans/70.jpeg  \n",
      "  inflating: Data/men jeans/71.jpeg  \n",
      "  inflating: Data/men jeans/72.jpeg  \n",
      "  inflating: Data/men jeans/73.jpeg  \n",
      "  inflating: Data/men jeans/0.jpeg   \n",
      "  inflating: Data/men jeans/1.jpeg   \n",
      "  inflating: Data/men jeans/2.jpeg   \n",
      "  inflating: Data/men jeans/3.jpeg   \n",
      "  inflating: Data/men jeans/4.jpeg   \n",
      "  inflating: Data/men jeans/5.jpeg   \n",
      "  inflating: Data/men jeans/6.jpeg   \n",
      "  inflating: Data/men jeans/7.jpeg   \n",
      "  inflating: Data/men jeans/8.jpeg   \n",
      "  inflating: Data/men jeans/9.jpeg   \n",
      "  inflating: Data/men jeans/10.jpeg  \n",
      "  inflating: Data/men jeans/11.jpeg  \n",
      "  inflating: Data/men jeans/12.jpeg  \n",
      "  inflating: Data/men jeans/13.jpeg  \n",
      "  inflating: Data/men jeans/14.jpeg  \n",
      "  inflating: Data/men jeans/15.jpeg  \n",
      "  inflating: Data/men jeans/16.jpeg  \n",
      "  inflating: Data/men jeans/17.jpeg  \n",
      "  inflating: Data/men jeans/18.jpeg  \n",
      "  inflating: Data/men jeans/19.jpeg  \n",
      "  inflating: Data/men jeans/20.jpeg  \n",
      "  inflating: Data/men jeans/21.jpeg  \n",
      "  inflating: Data/men jeans/22.jpeg  \n",
      "  inflating: Data/men jeans/23.jpeg  \n",
      "  inflating: Data/men jeans/24.jpeg  \n",
      "  inflating: Data/men jeans/25.jpeg  \n",
      "  inflating: Data/men jeans/168.jpeg  \n",
      "  inflating: Data/men jeans/169.jpeg  \n",
      "  inflating: Data/men jeans/170.jpeg  \n",
      "  inflating: Data/men jeans/171.jpeg  \n",
      "  inflating: Data/men jeans/172.jpeg  \n",
      "  inflating: Data/men jeans/173.jpeg  \n",
      "  inflating: Data/men jeans/174.jpeg  \n",
      "  inflating: Data/men jeans/74.jpeg  \n",
      "  inflating: Data/men jeans/175.jpeg  \n",
      "  inflating: Data/men jeans/176.jpeg  \n",
      "  inflating: Data/men jeans/177.jpeg  \n",
      "  inflating: Data/men jeans/178.jpeg  \n",
      "  inflating: Data/men jeans/179.jpeg  \n",
      "  inflating: Data/men jeans/180.jpeg  \n",
      "  inflating: Data/men jeans/181.jpeg  \n",
      "  inflating: Data/men jeans/182.jpeg  \n",
      "  inflating: Data/men jeans/183.jpeg  \n",
      "  inflating: Data/men jeans/184.jpeg  \n",
      "  inflating: Data/men jeans/185.jpeg  \n",
      "  inflating: Data/men jeans/186.jpeg  \n",
      "  inflating: Data/men jeans/187.jpeg  \n",
      "  inflating: Data/men jeans/188.jpeg  \n",
      "  inflating: Data/men jeans/189.jpeg  \n",
      "  inflating: Data/men jeans/190.jpeg  \n",
      "  inflating: Data/men jeans/191.jpeg  \n",
      "  inflating: Data/men jeans/192.jpeg  \n",
      "  inflating: Data/men jeans/193.jpeg  \n",
      "  inflating: Data/men jeans/194.jpeg  \n",
      "  inflating: Data/men jeans/195.jpeg  \n",
      "  inflating: Data/men jeans/196.jpeg  \n",
      "  inflating: Data/men jeans/197.jpeg  \n",
      "  inflating: Data/men jeans/198.jpeg  \n",
      "  inflating: Data/men jeans/199.jpeg  \n",
      "  inflating: Data/men jeans/200.jpeg  \n",
      "  inflating: Data/men jeans/201.jpeg  \n",
      "  inflating: Data/men jeans/202.jpeg  \n",
      "  inflating: Data/men jeans/203.jpeg  \n",
      "  inflating: Data/men jeans/204.jpeg  \n",
      "  inflating: Data/men jeans/205.jpeg  \n",
      "  inflating: Data/men jeans/206.jpeg  \n",
      "  inflating: Data/men jeans/207.jpeg  \n",
      "  inflating: Data/men jeans/208.jpeg  \n",
      "  inflating: Data/men jeans/209.jpeg  \n",
      "  inflating: Data/men jeans/210.jpeg  \n",
      "  inflating: Data/men jeans/211.jpeg  \n",
      "  inflating: Data/men jeans/212.jpeg  \n",
      "  inflating: Data/men jeans/213.jpeg  \n",
      "  inflating: Data/men jeans/214.jpeg  \n",
      "  inflating: Data/men jeans/215.jpeg  \n",
      "  inflating: Data/men jeans/75.jpeg  \n",
      "  inflating: Data/men jeans/76.jpeg  \n",
      "  inflating: Data/men jeans/77.jpeg  \n",
      "  inflating: Data/men jeans/78.jpeg  \n",
      "  inflating: Data/men jeans/79.jpeg  \n",
      "  inflating: Data/men jeans/80.jpeg  \n",
      "  inflating: Data/men jeans/81.jpeg  \n",
      "  inflating: Data/men jeans/82.jpeg  \n",
      "  inflating: Data/men jeans/83.jpeg  \n",
      "  inflating: Data/men jeans/84.jpeg  \n",
      "  inflating: Data/men jeans/85.jpeg  \n",
      "  inflating: Data/men jeans/86.jpeg  \n",
      "  inflating: Data/men jeans/87.jpeg  \n",
      "  inflating: Data/men jeans/88.jpeg  \n",
      "  inflating: Data/men jeans/89.jpeg  \n",
      "  inflating: Data/men jeans/90.jpeg  \n",
      "  inflating: Data/men jeans/91.jpeg  \n",
      "  inflating: Data/men jeans/92.jpeg  \n",
      "  inflating: Data/men jeans/93.jpeg  \n",
      "  inflating: Data/men jeans/94.jpeg  \n",
      "  inflating: Data/men jeans/95.jpeg  \n",
      "  inflating: Data/men jeans/96.jpeg  \n",
      "  inflating: Data/men jeans/97.jpeg  \n",
      "  inflating: Data/men jeans/98.jpeg  \n",
      "  inflating: Data/men jeans/99.jpeg  \n",
      "  inflating: Data/men jeans/100.jpeg  \n",
      "  inflating: Data/men jeans/101.jpeg  \n",
      "  inflating: Data/men jeans/102.jpeg  \n",
      "  inflating: Data/men jeans/103.jpeg  \n",
      "  inflating: Data/men jeans/104.jpeg  \n",
      "  inflating: Data/men jeans/105.jpeg  \n",
      "  inflating: Data/men jeans/106.jpeg  \n",
      "  inflating: Data/men jeans/107.jpeg  \n",
      "  inflating: Data/men jeans/108.jpeg  \n",
      "  inflating: Data/men jeans/109.jpeg  \n",
      "  inflating: Data/men jeans/110.jpeg  \n",
      "  inflating: Data/men jeans/Image_1.jpg  \n",
      "  inflating: Data/men jeans/Image_2.jpg  \n",
      "  inflating: Data/men jeans/Image_3.jpg  \n",
      "  inflating: Data/men jeans/Image_4.jpg  \n",
      "  inflating: Data/men jeans/Image_5.jpg  \n",
      "  inflating: Data/men jeans/Image_6.jpg  \n",
      "  inflating: Data/men jeans/Image_7.jpg  \n",
      "  inflating: Data/men jeans/Image_8.jpg  \n",
      "  inflating: Data/men jeans/111.jpeg  \n",
      "  inflating: Data/men jeans/Image_9.jpg  \n",
      "  inflating: Data/men jeans/Image_11.jpg  \n",
      "  inflating: Data/men jeans/Image_12.jpg  \n",
      "  inflating: Data/men jeans/Image_13.jpg  \n",
      "  inflating: Data/men jeans/Image_14.jpg  \n",
      "  inflating: Data/men jeans/Image_15.jpg  \n",
      "  inflating: Data/men jeans/Image_16.jpg  \n",
      "  inflating: Data/men jeans/Image_17.jpg  \n",
      "  inflating: Data/men jeans/Image_18.jpg  \n",
      "  inflating: Data/men jeans/Image_19.jpg  \n",
      "  inflating: Data/men jeans/Image_20.jpg  \n",
      "  inflating: Data/men jeans/Image_21.jpg  \n",
      "  inflating: Data/men jeans/Image_22.jpg  \n",
      "  inflating: Data/men jeans/Image_23.jpg  \n",
      "  inflating: Data/men jeans/Image_24.jpg  \n",
      "  inflating: Data/men jeans/Image_25.jpg  \n",
      "  inflating: Data/men jeans/Image_26.jpg  \n",
      "  inflating: Data/men jeans/Image_27.jpg  \n",
      "  inflating: Data/men jeans/Image_28.jpg  \n",
      "  inflating: Data/men jeans/Image_29.jpg  \n",
      "  inflating: Data/men jeans/Image_30.jpg  \n",
      "  inflating: Data/men jeans/Image_31.jpg  \n",
      "  inflating: Data/men jeans/112.jpeg  \n",
      "  inflating: Data/men jeans/Image_32.jpg  \n",
      "  inflating: Data/men jeans/Image_33.jpg  \n",
      "  inflating: Data/men jeans/Image_34.jpg  \n",
      "  inflating: Data/men jeans/Image_35.jpg  \n",
      "  inflating: Data/men jeans/Image_36.jpg  \n",
      "  inflating: Data/men jeans/Image_37.jpg  \n",
      "  inflating: Data/men jeans/Image_38.jpg  \n",
      "  inflating: Data/men jeans/Image_39.jpg  \n",
      "  inflating: Data/men jeans/Image_40.jpg  \n",
      "  inflating: Data/men jeans/Image_41.jpg  \n",
      "  inflating: Data/men jeans/Image_42.jpg  \n",
      "  inflating: Data/men jeans/Image_43.jpg  \n",
      "  inflating: Data/men jeans/Image_44.jpg  \n",
      "  inflating: Data/men jeans/Image_45.jpg  \n",
      "  inflating: Data/men jeans/Image_46.jpg  \n",
      "  inflating: Data/men jeans/Image_47.jpg  \n",
      "  inflating: Data/men jeans/Image_48.jpg  \n",
      "  inflating: Data/men jeans/Image_49.jpg  \n",
      "  inflating: Data/men jeans/Image_50.jpg  \n",
      "  inflating: Data/men jeans/Image_51.jpg  \n",
      "  inflating: Data/men jeans/113.jpeg  \n",
      "  inflating: Data/men jeans/Image_52.jpg  \n",
      "  inflating: Data/men jeans/Image_53.jpg  \n",
      "  inflating: Data/men jeans/Image_54.jpg  \n",
      "  inflating: Data/men jeans/Image_55.jpg  \n",
      "  inflating: Data/men jeans/Image_56.jpg  \n",
      "  inflating: Data/men jeans/Image_57.jpg  \n",
      "  inflating: Data/men jeans/Image_58.jpg  \n",
      "  inflating: Data/men jeans/Image_59.jpg  \n",
      "  inflating: Data/men jeans/Image_60.jpg  \n",
      "  inflating: Data/men jeans/Image_61.jpg  \n",
      "  inflating: Data/men jeans/Image_62.jpg  \n",
      "  inflating: Data/men jeans/Image_63.jpg  \n",
      "  inflating: Data/men jeans/Image_64.jpg  \n",
      "  inflating: Data/men jeans/Image_66.jpg  \n",
      "  inflating: Data/men jeans/Image_67.jpg  \n",
      "  inflating: Data/men jeans/Image_68.jpg  \n",
      "  inflating: Data/men jeans/Image_69.jpg  \n",
      "  inflating: Data/men jeans/Image_70.jpg  \n",
      "  inflating: Data/men jeans/Image_71.jpg  \n",
      "  inflating: Data/men jeans/Image_72.jpg  \n",
      "  inflating: Data/men jeans/Image_73.jpg  \n",
      "  inflating: Data/men jeans/Image_74.jpg  \n",
      "  inflating: Data/men jeans/114.jpeg  \n",
      "  inflating: Data/men jeans/Image_75.jpg  \n",
      "  inflating: Data/men jeans/Image_76.jpg  \n",
      "  inflating: Data/men jeans/Image_77.jpg  \n",
      "  inflating: Data/men jeans/Image_78.jpg  \n",
      "  inflating: Data/men jeans/Image_79.jpg  \n",
      "  inflating: Data/men jeans/Image_80.jpg  \n",
      "  inflating: Data/men jeans/Image_81.jpg  \n",
      "  inflating: Data/men jeans/Image_82.jpg  \n",
      "  inflating: Data/men jeans/Image_83.jpg  \n",
      "  inflating: Data/men jeans/Image_84.jpg  \n",
      "  inflating: Data/men jeans/Image_85.jpg  \n",
      "  inflating: Data/men jeans/Image_86.jpg  \n",
      "  inflating: Data/men jeans/Image_87.jpg  \n",
      "  inflating: Data/men jeans/Image_88.jpg  \n",
      "  inflating: Data/men jeans/Image_89.jpg  \n",
      "  inflating: Data/men jeans/Image_90.jpg  \n",
      "  inflating: Data/men jeans/115.jpeg  \n",
      "  inflating: Data/men jeans/Image_91.jpg  \n",
      "  inflating: Data/men jeans/Image_92.jpg  \n",
      "  inflating: Data/men jeans/Image_93.jpg  \n",
      "  inflating: Data/men jeans/Image_94.jpg  \n",
      "  inflating: Data/men jeans/Image_95.jpg  \n",
      "  inflating: Data/men jeans/Image_96.jpg  \n",
      "  inflating: Data/men jeans/Image_97.jpg  \n",
      "  inflating: Data/men jeans/Image_98.jpg  \n",
      "  inflating: Data/men jeans/Image_99.jpg  \n",
      "  inflating: Data/men jeans/Image_100.jpg  \n",
      "  inflating: Data/men jeans/116.jpeg  \n",
      "  inflating: Data/men jeans/117.jpeg  \n",
      "  inflating: Data/men jeans/118.jpeg  \n",
      "  inflating: Data/men jeans/119.jpeg  \n",
      "  inflating: Data/men jeans/120.jpeg  \n",
      "  inflating: Data/men jeans/121.jpeg  \n",
      "  inflating: Data/men jeans/122.jpeg  \n",
      "  inflating: Data/men jeans/123.jpeg  \n",
      "  inflating: Data/men jeans/124.jpeg  \n",
      "  inflating: Data/men jeans/125.jpeg  \n",
      "  inflating: Data/men jeans/126.jpeg  \n",
      "  inflating: Data/men jeans/127.jpeg  \n",
      "  inflating: Data/men jeans/128.jpeg  \n",
      "  inflating: Data/men jeans/129.jpeg  \n",
      "  inflating: Data/men jeans/130.jpeg  \n",
      "  inflating: Data/men jeans/131.jpeg  \n",
      "  inflating: Data/men jeans/132.jpeg  \n",
      "  inflating: Data/men jeans/133.jpeg  \n",
      "  inflating: Data/men jeans/134.jpeg  \n",
      "  inflating: Data/men jeans/135.jpeg  \n",
      "  inflating: Data/men jeans/136.jpeg  \n",
      "  inflating: Data/men jeans/137.jpeg  \n",
      "  inflating: Data/men jeans/138.jpeg  \n",
      "  inflating: Data/men jeans/139.jpeg  \n",
      "  inflating: Data/men jeans/140.jpeg  \n",
      "  inflating: Data/men jeans/141.jpeg  \n",
      "  inflating: Data/men jeans/142.jpeg  \n",
      "  inflating: Data/men jeans/143.jpeg  \n",
      "  inflating: Data/men jeans/144.jpeg  \n",
      "  inflating: Data/men jeans/145.jpeg  \n",
      "  inflating: Data/men jeans/146.jpeg  \n",
      "  inflating: Data/men jeans/147.jpeg  \n",
      "  inflating: Data/men jeans/148.jpeg  \n",
      "  inflating: Data/men jeans/149.jpeg  \n",
      "  inflating: Data/men jeans/150.jpeg  \n",
      "  inflating: Data/men jeans/151.jpeg  \n",
      "  inflating: Data/men jeans/152.jpeg  \n",
      "  inflating: Data/men jeans/153.jpeg  \n",
      "  inflating: Data/men jeans/154.jpeg  \n",
      "  inflating: Data/men jeans/155.jpeg  \n",
      "  inflating: Data/men jeans/156.jpeg  \n",
      "  inflating: Data/men jeans/157.jpeg  \n",
      "  inflating: Data/men jeans/158.jpeg  \n",
      "  inflating: Data/men jeans/159.jpeg  \n",
      "  inflating: Data/men jeans/160.jpeg  \n",
      "  inflating: Data/men jeans/161.jpeg  \n",
      "  inflating: Data/men jeans/162.jpeg  \n",
      "  inflating: Data/men jeans/163.jpeg  \n",
      "  inflating: Data/men jeans/164.jpeg  \n",
      "  inflating: Data/men jeans/165.jpeg  \n",
      "  inflating: Data/men jeans/166.jpeg  \n",
      "  inflating: Data/men jeans/167.jpeg  \n",
      "  inflating: Data/men jeans/216.jpeg  \n",
      "  inflating: Data/men jeans/217.jpeg  \n",
      "  inflating: Data/men jeans/218.jpeg  \n",
      "  inflating: Data/men jeans/219.jpeg  \n",
      "  inflating: Data/men jeans/220.jpeg  \n",
      "  inflating: Data/men jeans/221.jpeg  \n"
     ]
    }
   ],
   "source": [
    "!unzip /content/drive/MyDrive/Datasets/Amazon_clothes/Data.zip"
   ]
  },
  {
   "cell_type": "code",
   "execution_count": 3,
   "metadata": {
    "colab": {
     "base_uri": "https://localhost:8080/"
    },
    "id": "sj2jXknMiJ8u",
    "outputId": "8d7d28ae-a847-42ff-af62-848658cf7955"
   },
   "outputs": [
    {
     "name": "stderr",
     "output_type": "stream",
     "text": [
      "Copying files: 940 files [00:00, 6646.77 files/s]\n"
     ]
    }
   ],
   "source": [
    "import splitfolders\n",
    "\n",
    "splitfolders.ratio('/content/Data/', output = '/content/output', ratio = (0.8,0.2), seed = 10)"
   ]
  },
  {
   "cell_type": "code",
   "execution_count": 4,
   "metadata": {
    "colab": {
     "base_uri": "https://localhost:8080/"
    },
    "id": "JasbJoP3jaSl",
    "outputId": "7daaaca5-9018-4399-ef9f-69c1594a6bac"
   },
   "outputs": [
    {
     "data": {
      "text/plain": [
       "['val', 'train']"
      ]
     },
     "execution_count": 4,
     "metadata": {
      "tags": []
     },
     "output_type": "execute_result"
    }
   ],
   "source": [
    "import os\n",
    "os.listdir('/content/output')"
   ]
  },
  {
   "cell_type": "code",
   "execution_count": 5,
   "metadata": {
    "colab": {
     "base_uri": "https://localhost:8080/"
    },
    "id": "LULX5jdQjcpt",
    "outputId": "3506259b-8ea7-4889-9d6a-d74e1abc6ef3"
   },
   "outputs": [
    {
     "name": "stdout",
     "output_type": "stream",
     "text": [
      "saree : 267\n",
      "men trouser : 228\n",
      "men jeans : 256\n"
     ]
    }
   ],
   "source": [
    "for i in os.listdir('/content/output/train/'):\n",
    "  print(i, ':' , len(os.listdir('/content/output/train/{}'.format(i))))"
   ]
  },
  {
   "cell_type": "code",
   "execution_count": 6,
   "metadata": {
    "colab": {
     "base_uri": "https://localhost:8080/"
    },
    "id": "kmyJMamykPhl",
    "outputId": "05e36b50-42f1-418c-c1a6-1f9f05023bf4"
   },
   "outputs": [
    {
     "name": "stdout",
     "output_type": "stream",
     "text": [
      "saree : 67\n",
      "men trouser : 58\n",
      "men jeans : 64\n"
     ]
    }
   ],
   "source": [
    "for i in os.listdir('/content/output/val/'):\n",
    "  print(i, ':' , len(os.listdir('/content/output/val/{}'.format(i))))"
   ]
  },
  {
   "cell_type": "markdown",
   "metadata": {
    "id": "qWZTYrBIkvFg"
   },
   "source": [
    "Very few examples, we need to augment the images and then feed them to a NN"
   ]
  },
  {
   "cell_type": "code",
   "execution_count": 7,
   "metadata": {
    "id": "kuZzgtZykjTN"
   },
   "outputs": [],
   "source": [
    "#Importing Required Packages\n",
    "import tensorflow as tf\n",
    "from tensorflow.keras.preprocessing.image import ImageDataGenerator"
   ]
  },
  {
   "cell_type": "code",
   "execution_count": 10,
   "metadata": {
    "colab": {
     "base_uri": "https://localhost:8080/"
    },
    "id": "b5X_DVPJlDRF",
    "outputId": "5d851699-60c6-42ea-c7f7-48be0345f833"
   },
   "outputs": [
    {
     "name": "stdout",
     "output_type": "stream",
     "text": [
      "Found 751 images belonging to 3 classes.\n",
      "Found 189 images belonging to 3 classes.\n"
     ]
    }
   ],
   "source": [
    "#Step 1: Making tensorflow dataset\n",
    "\n",
    "#Making a generator\n",
    "train_datagen = ImageDataGenerator(rescale = 1./255,\n",
    "                                   width_shift_range = 0.2,\n",
    "                                   height_shift_range = 0.2,\n",
    "                                   zoom_range = 0.2,\n",
    "                                   horizontal_flip = True,\n",
    "                                   fill_mode = 'nearest',\n",
    "                                   rotation_range=60\n",
    "                                   )\n",
    "\n",
    "test_datagen = ImageDataGenerator(rescale = 1./255)\n",
    "\n",
    "#Making tensorflow datast\n",
    "train_data = train_datagen.flow_from_directory('/content/output/train/',\n",
    "                                               target_size = (250,350),\n",
    "                                               batch_size = 16,\n",
    "                                               class_mode = 'categorical')\n",
    "\n",
    "test_data = test_datagen.flow_from_directory('/content/output/val',\n",
    "                                             target_size = (250,350),\n",
    "                                             batch_size = 16,\n",
    "                                             class_mode = 'categorical')"
   ]
  },
  {
   "cell_type": "markdown",
   "metadata": {
    "id": "UO5a0rTmnp-U"
   },
   "source": [
    "Lets try fitting one epoch with a simple CNN model"
   ]
  },
  {
   "cell_type": "code",
   "execution_count": 9,
   "metadata": {
    "id": "lNtjZh_unlOV"
   },
   "outputs": [],
   "source": [
    "from tensorflow.keras.models import Sequential\n",
    "from tensorflow.keras.layers import Conv2D, Dense, MaxPooling2D, Flatten, Dropout"
   ]
  },
  {
   "cell_type": "code",
   "execution_count": 23,
   "metadata": {
    "id": "Tg4-jKdYn_Gl"
   },
   "outputs": [],
   "source": [
    "cnn_model = Sequential([\n",
    "    Conv2D(128, kernel_size=3, padding = 'valid', activation = 'relu', input_shape= (250,350,3)),\n",
    "    MaxPooling2D((2,2)),\n",
    "    Conv2D(256, kernel_size=3, activation='relu', padding='valid'),\n",
    "    MaxPooling2D((2,2)),\n",
    "    Flatten(),\n",
    "    Dense(100, activation = 'relu'),\n",
    "    Dense(3, activation = 'sigmoid')\n",
    "])"
   ]
  },
  {
   "cell_type": "code",
   "execution_count": 24,
   "metadata": {
    "colab": {
     "base_uri": "https://localhost:8080/"
    },
    "id": "oPrsr4Y3pRdk",
    "outputId": "7a14c289-8a29-4d76-f187-cd47e52c2746"
   },
   "outputs": [
    {
     "name": "stdout",
     "output_type": "stream",
     "text": [
      "Model: \"sequential_3\"\n",
      "_________________________________________________________________\n",
      "Layer (type)                 Output Shape              Param #   \n",
      "=================================================================\n",
      "conv2d_6 (Conv2D)            (None, 248, 348, 128)     3584      \n",
      "_________________________________________________________________\n",
      "max_pooling2d_6 (MaxPooling2 (None, 124, 174, 128)     0         \n",
      "_________________________________________________________________\n",
      "conv2d_7 (Conv2D)            (None, 122, 172, 256)     295168    \n",
      "_________________________________________________________________\n",
      "max_pooling2d_7 (MaxPooling2 (None, 61, 86, 256)       0         \n",
      "_________________________________________________________________\n",
      "flatten_3 (Flatten)          (None, 1342976)           0         \n",
      "_________________________________________________________________\n",
      "dense_6 (Dense)              (None, 100)               134297700 \n",
      "_________________________________________________________________\n",
      "dense_7 (Dense)              (None, 3)                 303       \n",
      "=================================================================\n",
      "Total params: 134,596,755\n",
      "Trainable params: 134,596,755\n",
      "Non-trainable params: 0\n",
      "_________________________________________________________________\n"
     ]
    }
   ],
   "source": [
    "cnn_model.summary()"
   ]
  },
  {
   "cell_type": "code",
   "execution_count": 25,
   "metadata": {
    "id": "aq2rT8yupcmW"
   },
   "outputs": [],
   "source": [
    "cnn_model.compile(\n",
    "    optimizer = 'adam',\n",
    "    loss = 'categorical_crossentropy',\n",
    "    metrics = ['accuracy']\n",
    ")"
   ]
  },
  {
   "cell_type": "code",
   "execution_count": 26,
   "metadata": {
    "id": "MVmtOoLbsIgG"
   },
   "outputs": [],
   "source": [
    "from tensorflow.keras.callbacks import ReduceLROnPlateau, EarlyStopping, ModelCheckpoint\n",
    "reduce_lr = ReduceLROnPlateau(monitor = 'val_loss', patience = 2, factor = 0.1, mode = 'auto', min_delta = 0.03)\n",
    "stop = EarlyStopping(monitor = 'val_accuracy', patience = 5, min_delta = 0.05)\n",
    "ckpt = ModelCheckpoint('/content/drive/MyDrive/Deep learning model/CNN_amazon/', \n",
    "                       monitor = 'val_accuracy',\n",
    "                       save_best_only=True)"
   ]
  },
  {
   "cell_type": "code",
   "execution_count": 27,
   "metadata": {
    "colab": {
     "base_uri": "https://localhost:8080/"
    },
    "id": "Uh8OpBEjptmU",
    "outputId": "2be80c3e-a979-4a0e-88fc-82911ad2dfa6"
   },
   "outputs": [
    {
     "name": "stdout",
     "output_type": "stream",
     "text": [
      "Epoch 1/10\n",
      "47/47 [==============================] - 29s 550ms/step - loss: 4.2626 - accuracy: 0.4567 - val_loss: 0.7508 - val_accuracy: 0.6614\n",
      "INFO:tensorflow:Assets written to: /content/drive/MyDrive/Deep learning model/CNN_amazon/assets\n",
      "Epoch 2/10\n",
      "47/47 [==============================] - 28s 603ms/step - loss: 0.8916 - accuracy: 0.6032 - val_loss: 0.7143 - val_accuracy: 0.6984\n",
      "INFO:tensorflow:Assets written to: /content/drive/MyDrive/Deep learning model/CNN_amazon/assets\n",
      "Epoch 3/10\n",
      "47/47 [==============================] - 26s 543ms/step - loss: 0.8037 - accuracy: 0.6951 - val_loss: 0.6105 - val_accuracy: 0.7513\n",
      "INFO:tensorflow:Assets written to: /content/drive/MyDrive/Deep learning model/CNN_amazon/assets\n",
      "Epoch 4/10\n",
      "47/47 [==============================] - 25s 526ms/step - loss: 0.7732 - accuracy: 0.6764 - val_loss: 0.6312 - val_accuracy: 0.6825\n",
      "Epoch 5/10\n",
      "47/47 [==============================] - 24s 516ms/step - loss: 0.6886 - accuracy: 0.7150 - val_loss: 0.7084 - val_accuracy: 0.7249\n",
      "Epoch 6/10\n",
      "47/47 [==============================] - 25s 529ms/step - loss: 0.5981 - accuracy: 0.7364 - val_loss: 0.5513 - val_accuracy: 0.7725\n",
      "INFO:tensorflow:Assets written to: /content/drive/MyDrive/Deep learning model/CNN_amazon/assets\n",
      "Epoch 7/10\n",
      "47/47 [==============================] - 24s 501ms/step - loss: 0.5748 - accuracy: 0.7656 - val_loss: 0.5317 - val_accuracy: 0.7619\n",
      "Epoch 8/10\n",
      "47/47 [==============================] - 25s 529ms/step - loss: 0.5408 - accuracy: 0.7563 - val_loss: 0.5438 - val_accuracy: 0.7672\n"
     ]
    }
   ],
   "source": [
    "history = cnn_model.fit(train_data, epochs = 10, validation_data=test_data, callbacks=[reduce_lr, stop, ckpt])"
   ]
  },
  {
   "cell_type": "code",
   "execution_count": 28,
   "metadata": {
    "id": "vFZ5sWXDp67t"
   },
   "outputs": [],
   "source": [
    "import pandas as pd\n",
    "df = pd.DataFrame(history.history)"
   ]
  },
  {
   "cell_type": "code",
   "execution_count": 29,
   "metadata": {
    "colab": {
     "base_uri": "https://localhost:8080/",
     "height": 206
    },
    "id": "jP8D8G4owW11",
    "outputId": "4e122703-bd01-4af3-952f-be0da38ee510"
   },
   "outputs": [
    {
     "data": {
      "text/html": [
       "<div>\n",
       "<style scoped>\n",
       "    .dataframe tbody tr th:only-of-type {\n",
       "        vertical-align: middle;\n",
       "    }\n",
       "\n",
       "    .dataframe tbody tr th {\n",
       "        vertical-align: top;\n",
       "    }\n",
       "\n",
       "    .dataframe thead th {\n",
       "        text-align: right;\n",
       "    }\n",
       "</style>\n",
       "<table border=\"1\" class=\"dataframe\">\n",
       "  <thead>\n",
       "    <tr style=\"text-align: right;\">\n",
       "      <th></th>\n",
       "      <th>loss</th>\n",
       "      <th>accuracy</th>\n",
       "      <th>val_loss</th>\n",
       "      <th>val_accuracy</th>\n",
       "      <th>lr</th>\n",
       "    </tr>\n",
       "  </thead>\n",
       "  <tbody>\n",
       "    <tr>\n",
       "      <th>0</th>\n",
       "      <td>4.262599</td>\n",
       "      <td>0.456724</td>\n",
       "      <td>0.750789</td>\n",
       "      <td>0.661376</td>\n",
       "      <td>0.001</td>\n",
       "    </tr>\n",
       "    <tr>\n",
       "      <th>1</th>\n",
       "      <td>0.891613</td>\n",
       "      <td>0.603196</td>\n",
       "      <td>0.714268</td>\n",
       "      <td>0.698413</td>\n",
       "      <td>0.001</td>\n",
       "    </tr>\n",
       "    <tr>\n",
       "      <th>2</th>\n",
       "      <td>0.803679</td>\n",
       "      <td>0.695073</td>\n",
       "      <td>0.610511</td>\n",
       "      <td>0.751323</td>\n",
       "      <td>0.001</td>\n",
       "    </tr>\n",
       "    <tr>\n",
       "      <th>3</th>\n",
       "      <td>0.773230</td>\n",
       "      <td>0.676431</td>\n",
       "      <td>0.631234</td>\n",
       "      <td>0.682540</td>\n",
       "      <td>0.001</td>\n",
       "    </tr>\n",
       "    <tr>\n",
       "      <th>4</th>\n",
       "      <td>0.688638</td>\n",
       "      <td>0.715047</td>\n",
       "      <td>0.708445</td>\n",
       "      <td>0.724868</td>\n",
       "      <td>0.001</td>\n",
       "    </tr>\n",
       "  </tbody>\n",
       "</table>\n",
       "</div>"
      ],
      "text/plain": [
       "       loss  accuracy  val_loss  val_accuracy     lr\n",
       "0  4.262599  0.456724  0.750789      0.661376  0.001\n",
       "1  0.891613  0.603196  0.714268      0.698413  0.001\n",
       "2  0.803679  0.695073  0.610511      0.751323  0.001\n",
       "3  0.773230  0.676431  0.631234      0.682540  0.001\n",
       "4  0.688638  0.715047  0.708445      0.724868  0.001"
      ]
     },
     "execution_count": 29,
     "metadata": {
      "tags": []
     },
     "output_type": "execute_result"
    }
   ],
   "source": [
    "df.head()"
   ]
  },
  {
   "cell_type": "code",
   "execution_count": 30,
   "metadata": {
    "colab": {
     "base_uri": "https://localhost:8080/",
     "height": 284
    },
    "id": "NZqO-ezjwX4s",
    "outputId": "3a39ac22-b795-45ae-c5de-ed2ea04766f5"
   },
   "outputs": [
    {
     "data": {
      "text/plain": [
       "<matplotlib.axes._subplots.AxesSubplot at 0x7f5cd8ba6b90>"
      ]
     },
     "execution_count": 30,
     "metadata": {
      "tags": []
     },
     "output_type": "execute_result"
    },
    {
     "data": {
      "image/png": "[encoded data removed]",
      "text/plain": [
       "<Figure size 432x288 with 1 Axes>"
      ]
     },
     "metadata": {
      "needs_background": "light",
      "tags": []
     },
     "output_type": "display_data"
    }
   ],
   "source": [
    "import matplotlib.pyplot as plt\n",
    "import seaborn as sns\n",
    "\n",
    "plt.figure()\n",
    "sns.lineplot(data = df['loss'])\n",
    "sns.lineplot(data = df['val_loss'])"
   ]
  },
  {
   "cell_type": "code",
   "execution_count": 31,
   "metadata": {
    "colab": {
     "base_uri": "https://localhost:8080/",
     "height": 284
    },
    "id": "x_fuEfN1w4OU",
    "outputId": "a863d492-68e9-4039-b590-6036beca82a0"
   },
   "outputs": [
    {
     "data": {
      "text/plain": [
       "<matplotlib.axes._subplots.AxesSubplot at 0x7f5cd8c76f50>"
      ]
     },
     "execution_count": 31,
     "metadata": {
      "tags": []
     },
     "output_type": "execute_result"
    },
    {
     "data": {
      "image/png": "[encoded data removed]",
      "text/plain": [
       "<Figure size 432x288 with 1 Axes>"
      ]
     },
     "metadata": {
      "needs_background": "light",
      "tags": []
     },
     "output_type": "display_data"
    }
   ],
   "source": [
    "plt.figure()\n",
    "sns.lineplot(data = df['accuracy'])\n",
    "sns.lineplot(data = df['val_accuracy'])"
   ]
  },
  {
   "cell_type": "code",
   "execution_count": 32,
   "metadata": {
    "colab": {
     "base_uri": "https://localhost:8080/"
    },
    "id": "VmRxW2qDLqc1",
    "outputId": "a4524238-4314-403b-9019-0df3784c2994"
   },
   "outputs": [
    {
     "name": "stdout",
     "output_type": "stream",
     "text": [
      "Downloading data from https://storage.googleapis.com/keras-applications/efficientnetb0_notop.h5\n",
      "16711680/16705208 [==============================] - 0s 0us/step\n"
     ]
    }
   ],
   "source": [
    "from tensorflow.keras.applications import EfficientNetB0\n",
    "eff_net = EfficientNetB0(weights='imagenet', include_top = False, input_shape = (250,350,3))"
   ]
  },
  {
   "cell_type": "code",
   "execution_count": 39,
   "metadata": {
    "id": "f00TTNHwLvAC"
   },
   "outputs": [],
   "source": [
    "model = tf.keras.models.Sequential()\n",
    "model.add(eff_net)\n",
    "model.add(Flatten())\n",
    "model.add(Dense(256, activation = 'relu'))\n",
    "model.add(tf.keras.layers.Dropout(0.25))\n",
    "model.add(Dense(3, activation= 'sigmoid'))"
   ]
  },
  {
   "cell_type": "code",
   "execution_count": 40,
   "metadata": {
    "colab": {
     "base_uri": "https://localhost:8080/"
    },
    "id": "oKXBJkPZMub2",
    "outputId": "74f9f15b-0d8c-40c1-fbcb-9c1b5f0a0858"
   },
   "outputs": [
    {
     "name": "stdout",
     "output_type": "stream",
     "text": [
      "Model: \"sequential_5\"\n",
      "_________________________________________________________________\n",
      "Layer (type)                 Output Shape              Param #   \n",
      "=================================================================\n",
      "efficientnetb0 (Functional)  (None, 8, 11, 1280)       4049571   \n",
      "_________________________________________________________________\n",
      "flatten_5 (Flatten)          (None, 112640)            0         \n",
      "_________________________________________________________________\n",
      "dense_10 (Dense)             (None, 256)               28836096  \n",
      "_________________________________________________________________\n",
      "dropout_2 (Dropout)          (None, 256)               0         \n",
      "_________________________________________________________________\n",
      "dense_11 (Dense)             (None, 3)                 771       \n",
      "=================================================================\n",
      "Total params: 32,886,438\n",
      "Trainable params: 32,844,415\n",
      "Non-trainable params: 42,023\n",
      "_________________________________________________________________\n"
     ]
    }
   ],
   "source": [
    "model.summary()"
   ]
  },
  {
   "cell_type": "code",
   "execution_count": 44,
   "metadata": {
    "id": "dFzvKiD6P3nM"
   },
   "outputs": [],
   "source": [
    "ckpt = ModelCheckpoint('/content/drive/MyDrive/Deep learning model/CNN_amazon2/', \n",
    "                       monitor = 'val_accuracy',\n",
    "                       save_best_only=True)"
   ]
  },
  {
   "cell_type": "code",
   "execution_count": 41,
   "metadata": {
    "id": "xUqy9T95Mx3V"
   },
   "outputs": [],
   "source": [
    "model.compile(optimizer = tf.keras.optimizers.Adam(learning_rate= 0.00001),\n",
    "              loss = tf.keras.losses.categorical_crossentropy,\n",
    "              metrics = ['accuracy'])"
   ]
  },
  {
   "cell_type": "code",
   "execution_count": 45,
   "metadata": {
    "colab": {
     "base_uri": "https://localhost:8080/"
    },
    "id": "EZ7D7a9aM_AK",
    "outputId": "c61894f0-79df-4d6c-f572-fec438488473"
   },
   "outputs": [
    {
     "name": "stdout",
     "output_type": "stream",
     "text": [
      "Epoch 1/10\n",
      "47/47 - 24s - loss: 0.1661 - accuracy: 0.9348 - val_loss: 0.1609 - val_accuracy: 0.9312\n"
     ]
    },
    {
     "name": "stderr",
     "output_type": "stream",
     "text": [
      "/usr/local/lib/python3.7/dist-packages/tensorflow/python/keras/utils/generic_utils.py:497: CustomMaskWarning: Custom mask layers require a config and must override get_config. When loading, the custom mask layer must be passed to the custom_objects argument.\n",
      "  category=CustomMaskWarning)\n"
     ]
    },
    {
     "name": "stdout",
     "output_type": "stream",
     "text": [
      "INFO:tensorflow:Assets written to: /content/drive/MyDrive/Deep learning model/CNN_amazon2/assets\n",
      "Epoch 2/10\n",
      "47/47 - 25s - loss: 0.1847 - accuracy: 0.9294 - val_loss: 0.1579 - val_accuracy: 0.9471\n"
     ]
    },
    {
     "name": "stderr",
     "output_type": "stream",
     "text": [
      "/usr/local/lib/python3.7/dist-packages/tensorflow/python/keras/utils/generic_utils.py:497: CustomMaskWarning: Custom mask layers require a config and must override get_config. When loading, the custom mask layer must be passed to the custom_objects argument.\n",
      "  category=CustomMaskWarning)\n"
     ]
    },
    {
     "name": "stdout",
     "output_type": "stream",
     "text": [
      "INFO:tensorflow:Assets written to: /content/drive/MyDrive/Deep learning model/CNN_amazon2/assets\n",
      "Epoch 3/10\n",
      "47/47 - 24s - loss: 0.1804 - accuracy: 0.9268 - val_loss: 0.1546 - val_accuracy: 0.9577\n"
     ]
    },
    {
     "name": "stderr",
     "output_type": "stream",
     "text": [
      "/usr/local/lib/python3.7/dist-packages/tensorflow/python/keras/utils/generic_utils.py:497: CustomMaskWarning: Custom mask layers require a config and must override get_config. When loading, the custom mask layer must be passed to the custom_objects argument.\n",
      "  category=CustomMaskWarning)\n"
     ]
    },
    {
     "name": "stdout",
     "output_type": "stream",
     "text": [
      "INFO:tensorflow:Assets written to: /content/drive/MyDrive/Deep learning model/CNN_amazon2/assets\n",
      "Epoch 4/10\n",
      "47/47 - 24s - loss: 0.1977 - accuracy: 0.9174 - val_loss: 0.2446 - val_accuracy: 0.9365\n",
      "Epoch 5/10\n",
      "47/47 - 24s - loss: 0.1983 - accuracy: 0.9174 - val_loss: 0.2329 - val_accuracy: 0.9206\n",
      "Epoch 6/10\n",
      "47/47 - 24s - loss: 0.1942 - accuracy: 0.9214 - val_loss: 0.1760 - val_accuracy: 0.9418\n"
     ]
    }
   ],
   "source": [
    "history = model.fit(train_data, epochs = 10,validation_data=test_data, verbose = 2, callbacks = [reduce_lr, stop, ckpt])"
   ]
  },
  {
   "cell_type": "code",
   "execution_count": 46,
   "metadata": {
    "colab": {
     "base_uri": "https://localhost:8080/"
    },
    "id": "dvJmC-pXNC--",
    "outputId": "182e5c31-e8bb-4ebb-8c43-ab1b9f43f902"
   },
   "outputs": [
    {
     "name": "stdout",
     "output_type": "stream",
     "text": [
      "12/12 [==============================] - 2s 176ms/step - loss: 0.1760 - accuracy: 0.9418\n"
     ]
    },
    {
     "data": {
      "text/plain": [
       "[0.17603273689746857, 0.9417989253997803]"
      ]
     },
     "execution_count": 46,
     "metadata": {
      "tags": []
     },
     "output_type": "execute_result"
    }
   ],
   "source": [
    "model.evaluate(test_data)"
   ]
  },
  {
   "cell_type": "code",
   "execution_count": 47,
   "metadata": {
    "colab": {
     "base_uri": "https://localhost:8080/",
     "height": 284
    },
    "id": "VH9sIPCQN8PG",
    "outputId": "a952f06d-c67a-4b9d-c4d9-4ad699f2425b"
   },
   "outputs": [
    {
     "data": {
      "text/plain": [
       "<matplotlib.axes._subplots.AxesSubplot at 0x7f5cd122a090>"
      ]
     },
     "execution_count": 47,
     "metadata": {
      "tags": []
     },
     "output_type": "execute_result"
    },
    {
     "data": {
      "image/png": "[encoded data removed]",
      "text/plain": [
       "<Figure size 432x288 with 1 Axes>"
      ]
     },
     "metadata": {
      "needs_background": "light",
      "tags": []
     },
     "output_type": "display_data"
    }
   ],
   "source": [
    "df = pd.DataFrame(history.history)\n",
    "plt.figure()\n",
    "sns.lineplot(data = df['loss'])\n",
    "sns.lineplot(data = df['val_loss'])"
   ]
  },
  {
   "cell_type": "code",
   "execution_count": 55,
   "metadata": {
    "colab": {
     "base_uri": "https://localhost:8080/",
     "height": 284
    },
    "id": "bzInKFpfR1jV",
    "outputId": "1e4e29f1-65aa-4007-df5a-2e267dc5bf92"
   },
   "outputs": [
    {
     "data": {
      "text/plain": [
       "<matplotlib.axes._subplots.AxesSubplot at 0x7f5ccd8ed750>"
      ]
     },
     "execution_count": 55,
     "metadata": {
      "tags": []
     },
     "output_type": "execute_result"
    },
    {
     "data": {
      "image/png": "[encoded data removed]",
      "text/plain": [
       "<Figure size 432x288 with 1 Axes>"
      ]
     },
     "metadata": {
      "needs_background": "light",
      "tags": []
     },
     "output_type": "display_data"
    }
   ],
   "source": [
    "plt.figure()\n",
    "sns.lineplot(data = df['accuracy'])\n",
    "sns.lineplot(data = df['val_accuracy'])"
   ]
  },
  {
   "cell_type": "code",
   "execution_count": null,
   "metadata": {
    "id": "uodhUI8pZl82"
   },
   "outputs": [],
   "source": []
  }
 ],
 "metadata": {
  "accelerator": "GPU",
  "colab": {
   "name": "clothesclassificationCNN.ipynb",
   "provenance": []
  },
  "kernelspec": {
   "display_name": "Python 3",
   "language": "python",
   "name": "python3"
  },
  "language_info": {
   "codemirror_mode": {
    "name": "ipython",
    "version": 3
   },
   "file_extension": ".py",
   "mimetype": "text/x-python",
   "name": "python",
   "nbconvert_exporter": "python",
   "pygments_lexer": "ipython3",
   "version": "3.8.5"
  }
 },
 "nbformat": 4,
 "nbformat_minor": 1
}
